{
 "metadata": {
  "name": "",
  "signature": "sha256:7eadf4685e682e749aa3fec94323b70aee6e718eb04e2544ab6bfb0f3a3e6667"
 },
 "nbformat": 3,
 "nbformat_minor": 0,
 "worksheets": [
  {
   "cells": [
    {
     "cell_type": "markdown",
     "metadata": {},
     "source": [
      "###\u5982\u4f55\u7ed9tq210\u7684bl1\u6dfb\u52a0\u68c0\u9a8c\u5934"
     ]
    },
    {
     "cell_type": "markdown",
     "metadata": {},
     "source": [
      "s5pv210\u4e0a\u7535\u9ed8\u8ba4\u8fd0\u884ciROM\u4e2d\u7684\u51fa\u5382\u7a0b\u5e8f\uff0c\u7528\u4e8e\u52a0\u8f7dBL1,\u6240\u4ee5\u8fd9\u6bb5\u7a0b\u5e8f\u4e5f\u53ebBL0,\u5173\u4e8e210\u7684\u542f\u52a8\u65b9\u5f0f\u53ef\u4ee5\u67e5\u770bUser manual\u3002\n",
      "BL0\u8bc6\u522bBL1\u7684\u65b9\u5f0f\u662fBL1\u8d77\u59cb\u5730\u5740\u768416\u5b57\u8282\uff0c\u6839\u636e\u5730\u5740\u5206\u522b\u662f\uff1a\n",
      "0x0 : BL1\u6587\u4ef6\u5927\u5c0f\n",
      "0x4 : reverse\n",
      "0x8 : \u6821\u9a8c\u548c\n",
      "0xC : reverse"
     ]
    }
   ],
   "metadata": {}
  }
 ]
}