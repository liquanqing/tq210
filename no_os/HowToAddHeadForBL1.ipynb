{
 "metadata": {
  "name": "",
  "signature": "sha256:5081b0604cfe7ef042bdaf2a1621f9919764be60971842853a5782c8c408f1ea"
 },
 "nbformat": 3,
 "nbformat_minor": 0,
 "worksheets": [
  {
   "cells": [
    {
     "cell_type": "code",
     "collapsed": false,
     "input": [
      "print \"\u8fd9\u91cc\u8bb0\u5f55\u5982\u4f55\u4e3abl1\u7684bin\u6587\u4ef6\u6dfb\u52a0\u6587\u4ef6\u5934\""
     ],
     "language": "python",
     "metadata": {},
     "outputs": [
      {
       "output_type": "stream",
       "stream": "stdout",
       "text": [
        "\u8fd9\u91cc\u8bb0\u5f55\u5982\u4f55\u4e3abl1\u7684bin\u6587\u4ef6\u6dfb\u52a0\u6587\u4ef6\u5934\n"
       ]
      }
     ],
     "prompt_number": 2
    },
    {
     "cell_type": "code",
     "collapsed": false,
     "input": [],
     "language": "python",
     "metadata": {},
     "outputs": []
    }
   ],
   "metadata": {}
  }
 ]
}