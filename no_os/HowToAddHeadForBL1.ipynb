{
 "metadata": {
  "name": "",
  "signature": "sha256:e8b74747218687bdf94f290a593506200ec5f35a5f0b3c049c1cdd7b37d543dc"
 },
 "nbformat": 3,
 "nbformat_minor": 0,
 "worksheets": [
  {
   "cells": [
    {
     "cell_type": "markdown",
     "metadata": {},
     "source": [
      "#\u4e3a\u4f55\u7ed9tq210\u7684bl1\u6dfb\u52a0\u68c0\u9a8c\u5934\n"
     ]
    },
    {
     "cell_type": "markdown",
     "metadata": {},
     "source": [
      "s5pv210\u4e0a\u7535\u9ed8\u8ba4\u8fd0\u884ciROM\u4e2d\u7684\u51fa\u5382\u7a0b\u5e8f\uff0c\u7528\u4e8e\u52a0\u8f7dBL1,\u6240\u4ee5\u8fd9\u6bb5\u7a0b\u5e8f\u4e5f\u53ebBL0,\u5173\u4e8e210\u7684\u542f\u52a8\u65b9\u5f0f\u53ef\u4ee5\u67e5\u770bUser manual\u3002\n",
      "BL0\u8bc6\u522bBL1\u7684\u65b9\u5f0f\u662fBL1\u8d77\u59cb\u5730\u5740\u768416\u5b57\u8282\uff0c\u6839\u636e\u5730\u5740\u5206\u522b\u662f\uff1a  \n",
      "\n",
      ">0x0 : BL1\u6587\u4ef6\u5927\u5c0f  \n",
      ">0x4 : reverse  \n",
      ">0x8 : \u6821\u9a8c\u548c  \n",
      ">0xC : reverse\n",
      "\n",
      "\u6240\u4ee5\u5f53\u8981\u70e7\u5f55bl1\u5230\u8f7d\u4f53\u524d\uff0c\u5148\u8981\u7b97\u51fabl1\u6587\u4ef6\u7684\u5927\u5c0f\u548c\u6587\u4ef6\u7684\u6821\u9a8c\u548c\uff0c\u7136\u540e\u5199\u5728bl1.bin\u6587\u4ef6\u7684\u5f00\u59cb16\u5b57\u8282\uff0c\u6700\u540e\u70e7\u5f55\u3002\n"
     ]
    },
    {
     "cell_type": "markdown",
     "metadata": {},
     "source": [
      "#\u6587\u4ef6\u5927\u5c0f\u8ba1\u7b97\u65b9\u6cd5\n",
      "1.\u901a\u8fc7fopen\u51fd\u6570\u6253\u5f00bin\u6587\u4ef6\uff0c\u6ce8\u610f\uff0c\u6253\u5f00bin\u6587\u4ef6\u7684\u65f6\u5019\uff0c\u8981\u52a0\u5165b\u6a21\u5f0f\uff0c\u4f8b\u5982\uff1a  \n",
      "\n",
      "    FILE *fp = fopen(\"xxx.bin\", \"rb\");  \n",
      "    if (NULL == fp) {  \n",
      "        /* error */  \n",
      "    }\n",
      "    \n",
      "2.\u901a\u8fc7fseek\u628a\u504f\u79fb\u6307\u9488\u6307\u5411\u6587\u4ef6\u5c3e\uff0c\u518d\u8c03\u7528ftell\u51fd\u6570\u83b7\u53d6\u5927\u5c0f\uff08\u5b57\u8282\uff09\uff0c\u6700\u540e\u8c03\u7528fseek\u590d\u539f\u504f\u79fb\u6307\u9488\uff0c\u4f8b\u5982\uff1a  \n",
      "    \n",
      "    fseek(fp, 0L, SEEK_END);  \n",
      "    fileLen = ftell(fp);  \n",
      "    fseek(fp, 0L, SEEK_SET);  \n",
      "    fileLen += HEAD_SIZE;  \n",
      "    note:\u4e0d\u80fd\u5fd8\u4e86\u6700\u7ec8\u6587\u4ef6\u5927\u5c0f\u662fbin\u6587\u4ef6+16\u5b57\u8282\u6821\u9a8c\n",
      "    \n",
      "#\u6821\u9a8c\u548c\u8ba1\u7b97\u65b9\u6cd5\n",
      "1.\u9996\u5148\u8c03\u7528fread\u51fd\u6570\u628a\u6587\u4ef6\u5185\u5bb9\u8bfb\u5230\u7f13\u5b58\uff0c\u540c\u65f6\u8ba1\u7b97\u6821\u9a8c\u548c\u3002  \n",
      "\n",
      "    while(fread(Buffer + HEAD_SIZE + i, 1, 1, fp)) {  \n",
      "        chkSum += Buffer[HEAD_SIZE + i];  \n",
      "    }  \n",
      "    ps:\u8ba1\u7b97\u524d\uff0c\u5148\u521d\u59cb\u5316chkSum = 0  \n",
      "    note: HEAD_SIZE\u662fbl1\u524d16\u5b57\u8282\u504f\u79fb\uff0c\u7f13\u5b58\u4e3a\u8fd916\u4e2a\u5b57\u8282\u9884\u7559\u4f4d\u7f6e  \n",
      "    \n",
      "#\u52a0\u516516\u5b57\u8282\u6821\u9a8c\u65b9\u6cd5\n",
      "1.\u4ece\u4e0a\u9762\u53ef\u4ee5\u77e5\u9053\uff0c\u6587\u4ef6\u5927\u5c0f\u5b58\u57280x00\u5904\uff0c\u6240\u4ee5\u76f4\u63a5\u8c03\u7528memcpy\u5373\u53ef\u3002  \n",
      "\n",
      "    memcpy(Buffer, &fileLen, 4);  \n",
      "    \n",
      "2.\u540c\u65f6\uff0c \u6821\u9a8c\u548c\u5b58\u5728\u4e0e0x08\u5904  \n",
      "    \n",
      "    memcpy(Buffer + 8, $chkSum, 4);  \n",
      "    \n",
      "#\u5199\u5165\u6587\u4ef6\n",
      "1.\u4f7f\u7528fwrite\u51fd\u6570\u5373\u53ef  \n",
      "\n",
      "    fopen(\"xxx.bin\", \"wb\");\n",
      "    nByte = fwrite(Buffer, 1, fileLen, fp);  \n",
      "    if (nByte != fileLen) {  \n",
      "        error...  \n",
      "    }  \n",
      "    ps:\u5199\u5165\u6587\u4ef6\uff0c\u6700\u540e\u522b\u5fd8\u4e86free\u4e00\u4e0bBuffer\u3002  \n",
      "    \n"
     ]
    },
    {
     "cell_type": "markdown",
     "metadata": {},
     "source": [
      "#\u811a\u672c\u6587\u4ef6\n",
      "1.\u4f7f\u7528\u4e0a\u9762\u7f16\u8bd1\u597d\u7684add_header\u6587\u4ef6\u628a\u76ee\u6807\u6587\u4ef6\u8f6c\u6362\u6210\u5df2\u7ecf\u52a0\u516516\u5b57\u8282\u7684bin\u6587\u4ef6  \n",
      "2.\u4f7f\u7528dd\u547d\u4ee4\uff0c\u5982\u679c\u662f\u70e7\u5f55\u5230sd\u5361\uff0c\u9700\u8981\u770biRom\u6587\u6863\uff0csd\u5361\u4e3a512\u5b57\u8282\u6ca1block\uff0cbl1\u8981\u6c42\u4e0b\u8f7d\u5230\u7b2c2\u4e2ablock\u5904\uff08ps\uff1a\u6700\u592716K\uff09  \n",
      "    sudo dd if=$(\u76ee\u6807\u6587\u4ef6) of=/dev/sdb bs=512 seek=1  \n",
      "    sync  \n"
     ]
    }
   ],
   "metadata": {}
  }
 ]
}